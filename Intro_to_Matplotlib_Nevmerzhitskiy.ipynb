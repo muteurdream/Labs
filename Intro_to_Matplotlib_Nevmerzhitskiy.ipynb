{
  "nbformat": 4,
  "nbformat_minor": 0,
  "metadata": {
    "colab": {
      "name": "Untitled3.ipynb",
      "provenance": []
    },
    "kernelspec": {
      "name": "python3",
      "display_name": "Python 3"
    },
    "language_info": {
      "name": "python"
    }
  },
  "cells": [
    {
      "cell_type": "code",
      "metadata": {
        "id": "Ju5b6PtIgvO6"
      },
      "source": [
        "import matplotlib.pyplot as plt\n",
        "import numpy as np\n",
        "import pandas as pd\n",
        "import seaborn as sns\n",
        "from matplotlib.axes._axes import _log as matplotlib_axes_logger\n",
        "matplotlib_axes_logger.setLevel('ERROR')\n",
        "t = np.arange(0.0, 2.0, 0.01)\n",
        "s1 = np.sin(2 * np.pi * t)\n",
        "s2 = np.sin(4 * np.pi * t)\n",
        "s3 = np.sin(6 * np.pi * t)\n",
        "s4 = np.sin(np.pi * t)\n",
        "\n",
        "fig, ax = plt.subplots(figsize=(10,10))\n",
        "ax.plot(t, s1, c='r',linewidth=4.0)\n",
        "\n",
        "ax.set(xlabel='x', title='2*pi')\n",
        "ax.grid()\n",
        "\n",
        "fig.savefig(\"test.png\")\n",
        "plt.show()\n",
        "\n",
        "fig, ax = plt.subplots(figsize=(10,10))\n",
        "ax.plot(t, s2, c='r',linewidth=4.0)\n",
        "\n",
        "ax.set(xlabel='x', title='4*pi')\n",
        "ax.grid()\n",
        "\n",
        "fig.savefig(\"test.png\")\n",
        "plt.show()\n",
        "\n",
        "fig, ax = plt.subplots(figsize=(10,10))\n",
        "ax.plot(t, s3, c='r',linewidth=4.0)\n",
        "\n",
        "ax.set(xlabel='x', title='6*pi')\n",
        "ax.grid()\n",
        "\n",
        "fig.savefig(\"test.png\")\n",
        "plt.show()\n",
        "\n",
        "fig, ax = plt.subplots(figsize=(10,10))\n",
        "ax.plot(t, s4, c='r',linewidth=4.0)\n",
        "\n",
        "ax.set(xlabel='x', title='pi')\n",
        "ax.grid()\n",
        "\n",
        "fig.savefig(\"test.png\")\n",
        "plt.show()"
      ],
      "execution_count": null,
      "outputs": []
    }
  ]
}